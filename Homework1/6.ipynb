{
 "cells": [
  {
   "cell_type": "code",
   "execution_count": 4,
   "metadata": {},
   "outputs": [
    {
     "name": "stdout",
     "output_type": "stream",
     "text": [
      "5 4 3 2 1 5 4 3 2 1 "
     ]
    }
   ],
   "source": [
    "def reverse_for(list):\n",
    "    \n",
    "    # 利用range()函数，从列表的最后一个元素开始遍历到第一个元素\n",
    "    for i in range(len(list)-1,-1,-1):\n",
    "        # 打印当前元素，end=' '参数表示打印后不换行而是空格分隔\n",
    "        print(list[i],end =' ')\n",
    "    \n",
    "\n",
    "def reverse_while(list):\n",
    "    # 初始化索引为列表最后一个元素的索引\n",
    "    i = len(L)-1\n",
    "    while i>=0:\n",
    "        print(list[i],end=' ')\n",
    "        # 索引递减，移动到前一个元素\n",
    "        i = i-1\n",
    "\n",
    "# 测试函数\n",
    "L = [1,2,3,4,5]\n",
    "reverse_for(L)\n",
    "reverse_while(L)\n",
    "\n",
    "\n"
   ]
  }
 ],
 "metadata": {
  "kernelspec": {
   "display_name": "base",
   "language": "python",
   "name": "python3"
  },
  "language_info": {
   "codemirror_mode": {
    "name": "ipython",
    "version": 3
   },
   "file_extension": ".py",
   "mimetype": "text/x-python",
   "name": "python",
   "nbconvert_exporter": "python",
   "pygments_lexer": "ipython3",
   "version": "3.11.7"
  }
 },
 "nbformat": 4,
 "nbformat_minor": 2
}
