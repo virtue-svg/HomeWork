{
 "cells": [
  {
   "cell_type": "code",
   "execution_count": 3,
   "metadata": {},
   "outputs": [
    {
     "name": "stdout",
     "output_type": "stream",
     "text": [
      "[-1, 2, 3, 5, 5, 6]\n"
     ]
    }
   ],
   "source": [
    "# 快速排序\n",
    "def quick_sort(data):  \n",
    "    # 当数组长度小于等于1时，无序排序  \n",
    "    if len(data) <=1:  \n",
    "        return data\n",
    "    else:   \n",
    "        # 将中间值作为基准\n",
    "        mid = data[len(data)//2]  \n",
    "        # 设置三个空列表，分别存放对应条件的元素       \n",
    "        left,right,middle = [],[],[]\n",
    "        # 遍历数组中每一个元素      \n",
    "        for num in data:    \n",
    "            # 大于初值的元素被划入right        \n",
    "            if num > mid:                \n",
    "                right.append(num) \n",
    "            # 小于初值的元素被划入left           \n",
    "            elif num < mid:                \n",
    "                left.append(num) \n",
    "            # 与初值相等的元素被划入middle \n",
    "            else:\n",
    "                middle.append(num) \n",
    "        # 对于left和right两个列表递归排序，最终返回的是一个排序好的完整数组    \n",
    "        return quick_sort(left) + middle + quick_sort(right) \n",
    "\n",
    "# 示例\n",
    "array = [3,-1,2,5,6,5]\n",
    "print(quick_sort(array))\n"
   ]
  }
 ],
 "metadata": {
  "kernelspec": {
   "display_name": "Python 3",
   "language": "python",
   "name": "python3"
  },
  "language_info": {
   "codemirror_mode": {
    "name": "ipython",
    "version": 3
   },
   "file_extension": ".py",
   "mimetype": "text/x-python",
   "name": "python",
   "nbconvert_exporter": "python",
   "pygments_lexer": "ipython3",
   "version": "3.12.2"
  }
 },
 "nbformat": 4,
 "nbformat_minor": 2
}
